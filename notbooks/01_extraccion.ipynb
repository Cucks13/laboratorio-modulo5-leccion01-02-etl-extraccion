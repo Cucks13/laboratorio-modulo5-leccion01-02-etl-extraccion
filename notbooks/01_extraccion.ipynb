{
 "cells": [
  {
   "cell_type": "code",
   "execution_count": 1,
   "metadata": {},
   "outputs": [],
   "source": [
    "import sys\n",
    "sys.path.append(\"../\")\n",
    "from src import api_dem as de\n",
    "from src import api_gen as ex\n",
    "from src import soporte_scrap as sc\n",
    "from src import soporte_organizacion_por_año as soa\n",
    "import pandas as pd"
   ]
  },
  {
   "cell_type": "code",
   "execution_count": 2,
   "metadata": {},
   "outputs": [],
   "source": [
    "ex.alamacenar_datos_in_csv()"
   ]
  },
  {
   "cell_type": "code",
   "execution_count": 3,
   "metadata": {},
   "outputs": [],
   "source": [
    "de.alamacenar_datos_in_csv()"
   ]
  },
  {
   "cell_type": "code",
   "execution_count": 3,
   "metadata": {},
   "outputs": [],
   "source": [
    "params = [(2021,2),(2020,3),(2019,4)]\n",
    "url = \"https://www.ine.es/jaxi/Tabla.htm?path=/t20/e245/p08/l0/&file=03001.px&L=0\"\n",
    "sc.magic(params, url)"
   ]
  },
  {
   "cell_type": "code",
   "execution_count": 4,
   "metadata": {},
   "outputs": [
    {
     "name": "stdout",
     "output_type": "stream",
     "text": [
      "Error al clickear en la descarga del csv, probamos otra vez, hasta que no este en popup\n",
      "Error al clickear en la descarga del csv, probamos otra vez, hasta que no este en popup\n",
      "Error al clickear en la descarga del csv, probamos otra vez, hasta que no este en popup\n",
      "Error al clickear en la descarga del csv, probamos otra vez, hasta que no este en popup\n",
      "Error al clickear en la descarga del csv, probamos otra vez, hasta que no este en popup\n",
      "Error al clickear en la descarga del csv, probamos otra vez, hasta que no este en popup\n",
      "Error al clickear en la descarga del csv, probamos otra vez, hasta que no este en popup\n",
      "Error al clickear en la descarga del csv, probamos otra vez, hasta que no este en popup\n",
      "Error al clickear en la descarga del csv, probamos otra vez, hasta que no este en popup\n",
      "Error al clickear en la descarga del csv, probamos otra vez, hasta que no este en popup\n",
      "Error al clickear en la descarga del csv, probamos otra vez, hasta que no este en popup\n",
      "Error al clickear en la descarga del csv, probamos otra vez, hasta que no este en popup\n",
      "Error al clickear en la descarga del csv, probamos otra vez, hasta que no este en popup\n"
     ]
    }
   ],
   "source": [
    "params = [(2021,2),(2020,3),(2019,4)]\n",
    "url = \"https://www.ine.es/jaxi/Tabla.htm?tpx=67284&L=0\"\n",
    "sc.magic(params, url)    "
   ]
  },
  {
   "cell_type": "code",
   "execution_count": 5,
   "metadata": {},
   "outputs": [
    {
     "name": "stdout",
     "output_type": "stream",
     "text": [
      "Error al clickear en la descarga del csv, probamos otra vez, hasta que no este en popup\n",
      "Error al clickear en la descarga del csv, probamos otra vez, hasta que no este en popup\n",
      "Error al clickear en la descarga del csv, probamos otra vez, hasta que no este en popup\n"
     ]
    }
   ],
   "source": [
    "params = [(2021,2),(2020,3),(2019,4)]\n",
    "url = \"https://www.ine.es/jaxi/Tabla.htm?tpx=67285&L=0\"\n",
    "sc.magic(params, url)"
   ]
  },
  {
   "cell_type": "code",
   "execution_count": 3,
   "metadata": {},
   "outputs": [
    {
     "name": "stdout",
     "output_type": "stream",
     "text": [
      "Archivos organizados por año en carpetas correspondientes.\n"
     ]
    }
   ],
   "source": [
    "# Organizo las carpetas de demandas\n",
    "ruta_carpeta = \"C:\\\\Users\\\\almaz\\\\Hackio\\\\laboratoriohackio\\\\laboratorio-modulo5-leccion01-etl-extraccion\\\\data\\\\demanda\"\n",
    "soa.organizar_archivos_por_año(ruta_carpeta)"
   ]
  },
  {
   "cell_type": "code",
   "execution_count": 4,
   "metadata": {},
   "outputs": [
    {
     "name": "stdout",
     "output_type": "stream",
     "text": [
      "Archivos organizados por año en carpetas correspondientes.\n"
     ]
    }
   ],
   "source": [
    "# Organizo las carpetas de generacion\n",
    "ruta_carpeta = \"C:\\\\Users\\\\almaz\\\\Hackio\\\\laboratoriohackio\\\\laboratorio-modulo5-leccion01-etl-extraccion\\\\data\\\\generacion\"\n",
    "soa.organizar_archivos_por_año(ruta_carpeta)"
   ]
  },
  {
   "cell_type": "code",
   "execution_count": null,
   "metadata": {},
   "outputs": [],
   "source": []
  }
 ],
 "metadata": {
  "kernelspec": {
   "display_name": "Python 3",
   "language": "python",
   "name": "python3"
  },
  "language_info": {
   "codemirror_mode": {
    "name": "ipython",
    "version": 3
   },
   "file_extension": ".py",
   "mimetype": "text/x-python",
   "name": "python",
   "nbconvert_exporter": "python",
   "pygments_lexer": "ipython3",
   "version": "3.12.4"
  }
 },
 "nbformat": 4,
 "nbformat_minor": 2
}
