{
 "cells": [
  {
   "cell_type": "code",
   "execution_count": 50,
   "metadata": {},
   "outputs": [],
   "source": [
    "import pandas as pd"
   ]
  },
  {
   "cell_type": "markdown",
   "metadata": {},
   "source": [
    "# Nº_PERSONAS"
   ]
  },
  {
   "cell_type": "code",
   "execution_count": 51,
   "metadata": {},
   "outputs": [],
   "source": [
    "df_0 = pd.read_csv(\"../data/ine/raw/03001.csv\", encoding = 'latin-1',sep = ';')\n",
    "df_0[\"Total\"] = df_0[\"Total\"].str.replace(\".\", \"\")\n",
    "df_0[\"Total\"] = df_0[\"Total\"].astype(int)\n",
    "df_0.to_csv(\"../data/ine/cooked/numero_personas_22_21.csv\")"
   ]
  },
  {
   "cell_type": "code",
   "execution_count": 52,
   "metadata": {},
   "outputs": [],
   "source": [
    "df_1 = pd.read_csv(\"../data/ine/raw/03001 (1).csv\", encoding='latin-1',sep=';')\n",
    "df_1[\"Total\"] = df_1[\"Total\"].str.replace(\".\", \"\")\n",
    "df_1[\"Total\"] = df_1[\"Total\"].astype(int)\n",
    "df_1.to_csv(\"../data/ine/cooked/numero_personas_22_20.csv\")"
   ]
  },
  {
   "cell_type": "code",
   "execution_count": 53,
   "metadata": {},
   "outputs": [],
   "source": [
    "df_2 = pd.read_csv(\"../data/ine/raw/03001 (2).csv\", encoding = 'latin-1', sep = ';')\n",
    "df_2[\"Total\"] = df_2[\"Total\"].str.replace(\".\", \"\")\n",
    "df_2[\"Total\"] = df_2[\"Total\"].astype(int)\n",
    "df_2.to_csv(\"../data/ine/cooked/numeros_personas_22_19.csv\")"
   ]
  },
  {
   "cell_type": "code",
   "execution_count": 75,
   "metadata": {},
   "outputs": [],
   "source": [
    "df_n_personas = pd.concat([df_0, df_1, df_2], axis=0, ignore_index=True)\n",
    "df_n_personas.to_csv(\"../data/ine/cooked/numero_personas-CONCATENADO.csv\")"
   ]
  },
  {
   "cell_type": "markdown",
   "metadata": {},
   "source": [
    "# PIB"
   ]
  },
  {
   "cell_type": "code",
   "execution_count": 54,
   "metadata": {},
   "outputs": [],
   "source": [
    "df_0_1 = pd.read_csv(\"../data/ine/raw/67284.csv\", encoding = 'latin-1', sep = ';')\n",
    "df_0_1[\"Total\"] = df_0_1[\"Total\"].str.replace(\".\", \"\")\n",
    "df_0_1[\"Total\"] = df_0_1[\"Total\"].astype(int)\n",
    "df_0_1[\"periodo\"] = df_0_1[\"periodo\"].str.replace(\"(P)\", \"\")\n",
    "df_0_1.to_csv(\"../data/ine/cooked/PIB_21_20.csv\")"
   ]
  },
  {
   "cell_type": "code",
   "execution_count": 55,
   "metadata": {},
   "outputs": [],
   "source": [
    "df_1_1 = pd.read_csv(\"../data/ine/raw/67284 (1).csv\", encoding = 'latin-1', sep = ';')\n",
    "df_1_1[\"Total\"] = df_1_1[\"Total\"].str.replace(\".\", \"\")\n",
    "df_1_1[\"Total\"] = df_1_1[\"Total\"].astype(int)\n",
    "df_1_1[\"periodo\"] = df_1_1[\"periodo\"].str.replace(\"(P)\", \"\")\n",
    "df_1_1.to_csv(\"../data/ine/cooked/PIB_21_19.csv\")"
   ]
  },
  {
   "cell_type": "code",
   "execution_count": 56,
   "metadata": {},
   "outputs": [],
   "source": [
    "df_2_1 = pd.read_csv(\"../data/ine/raw/67284 (2).csv\", encoding = 'latin-1', sep = ';')\n",
    "df_2_1[\"Total\"] = df_2_1[\"Total\"].str.replace(\".\", \"\")\n",
    "df_2_1[\"Total\"] = df_2_1[\"Total\"].astype(int)\n",
    "df_2_1[\"periodo\"] = df_2_1[\"periodo\"].str.replace(\"(P)\", \"\")\n",
    "df_2_1.to_csv(\"../data/ine/cooked/PIB_21_18.csv\")"
   ]
  },
  {
   "cell_type": "code",
   "execution_count": 74,
   "metadata": {},
   "outputs": [],
   "source": [
    "df_PIB = pd.concat([df_0_1, df_1_1, df_2_1], axis=0, ignore_index=True)\n",
    "df_PIB.to_csv(\"../data/ine/cooked/PIB-CONCATENADO.csv\")"
   ]
  },
  {
   "cell_type": "markdown",
   "metadata": {},
   "source": [
    "# EMPLEO"
   ]
  },
  {
   "cell_type": "code",
   "execution_count": 58,
   "metadata": {},
   "outputs": [],
   "source": [
    "df_0_2 = pd.read_csv(\"../data/ine/raw/67285.csv\", encoding = 'latin-1', sep = ';')\n",
    "df_0_2[\"Total\"] = df_0_2[\"Total\"].str.replace(\".\", \"\")\n",
    "df_0_2[\"periodo\"] = df_0_2[\"periodo\"].str.replace(\"(P)\", \"\")\n",
    "df_0_2.to_csv(\"../data/ine/cooked/Empleo_21_20.csv\")"
   ]
  },
  {
   "cell_type": "code",
   "execution_count": 60,
   "metadata": {},
   "outputs": [],
   "source": [
    "df_1_2 = pd.read_csv(\"../data/ine/raw/67285 (1).csv\", encoding = 'latin-1', sep = ';')\n",
    "df_1_2[\"Total\"] = df_1_2[\"Total\"].str.replace(\".\", \"\")\n",
    "df_1_2[\"periodo\"] = df_1_2[\"periodo\"].str.replace(\"(P)\", \"\")\n",
    "df_1_2.to_csv(\"../data/ine/cooked/Empleo_21_19.csv\")"
   ]
  },
  {
   "cell_type": "code",
   "execution_count": 61,
   "metadata": {},
   "outputs": [],
   "source": [
    "df_2_2 = pd.read_csv(\"../data/ine/raw/67285 (2).csv\", encoding = 'latin-1', sep = ';')\n",
    "df_2_2[\"Total\"] = df_2_2[\"Total\"].str.replace(\".\", \"\")\n",
    "df_2_2[\"periodo\"] = df_2_2[\"periodo\"].str.replace(\"(P)\", \"\")\n",
    "df_2_2.to_csv(\"../data/ine/cooked/Empleo_21_18.csv\")"
   ]
  },
  {
   "cell_type": "code",
   "execution_count": 73,
   "metadata": {},
   "outputs": [],
   "source": [
    "df_EMPLEO = pd.concat([df_0_2, df_1_2, df_2_2], axis=0, ignore_index=True)\n",
    "df_EMPLEO.to_csv(\"../data/ine/cooked/Empleo-CONCATENADO.csv\")"
   ]
  }
 ],
 "metadata": {
  "kernelspec": {
   "display_name": "Python 3",
   "language": "python",
   "name": "python3"
  },
  "language_info": {
   "codemirror_mode": {
    "name": "ipython",
    "version": 3
   },
   "file_extension": ".py",
   "mimetype": "text/x-python",
   "name": "python",
   "nbconvert_exporter": "python",
   "pygments_lexer": "ipython3",
   "version": "3.12.4"
  }
 },
 "nbformat": 4,
 "nbformat_minor": 2
}
